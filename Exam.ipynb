{
 "cells": [
  {
   "cell_type": "markdown",
   "metadata": {},
   "source": [
    "## 02686 Exam Report"
   ]
  },
  {
   "cell_type": "markdown",
   "metadata": {},
   "source": [
    "## 1.1"
   ]
  },
  {
   "cell_type": "code",
   "execution_count": null,
   "metadata": {},
   "outputs": [
    {
     "name": "stdout",
     "output_type": "stream",
     "text": [
      "[[0, -1], [1, 0]]\n"
     ]
    }
   ],
   "source": [
    "# Prey predator function valuation\n",
    "def Prey_pred(t, x, a, b):\n",
    "    x1, x2 = x\n",
    "    dx1= a * (1 - x2) * x1\n",
    "    dx2 = -b * (1 - x1) * x2\n",
    "    return [dx1,dx2]\n",
    "\n",
    "# Jacobian of prey predator valuation\n",
    "def Prey_pred_jac(t, x, a, b):\n",
    "    x1, x2 = x\n",
    "    dx1x1 = a * (1 - x2) \n",
    "    dx1x2 = -a * x1\n",
    "    dx2x1 = b * x2\n",
    "    dx2x2 = -b * (1 - x1)\n",
    "    x2_ = -b * (1 - x[0]) * x[1]\n",
    "    return [[dx1x1, dx1x2], [dx2x1, dx2x2]]\n",
    "\n",
    "# Prey predator function and jacobian\n",
    "def PreyPredatorFunJac(t, x, a, b):\n",
    "    x1, x2 = x\n",
    "\n",
    "    dx1= a * (1 - x2) * x1\n",
    "    dx2 = -b * (1 - x1) * x2\n",
    "\n",
    "    dx1x1 = a * (1 - x2) \n",
    "    dx1x2 = -a * x1\n",
    "    dx2x1 = b * x2\n",
    "    dx2x2 = -b * (1 - x1)\n",
    "    return [dx1,dx2], [[dx1x1, dx1x2], [dx2x1, dx2x2]]\n",
    "\n"
   ]
  },
  {
   "cell_type": "markdown",
   "metadata": {},
   "source": [
    "## 1.2"
   ]
  },
  {
   "cell_type": "code",
   "execution_count": null,
   "metadata": {},
   "outputs": [],
   "source": [
    "import numpy as np\n",
    "import matplotlib.pyplot as plt\n",
    "from scipy.integrate import solve_ivp\n",
    "\n",
    "\n",
    "def VanDerPol(t,x,mu):\n",
    "\n",
    "    x1_ = x[1]\n",
    "\n",
    "    x2_ = mu*(1-x[0]**2)*x[1]-x[0]\n",
    "\n",
    "    return [x1_,x2_]\n",
    "\n",
    "def VanDerPol_jac(t, x, mu):\n",
    "    x1, x2 = x\n",
    "    return [\n",
    "        [0, 1],\n",
    "        [-2 * mu * x1 * x2 - 1, mu * (1 - x1**2)]\n",
    "    ]\n",
    "\n",
    "mu = 10\n",
    "x0 = [2.0, 0.0]\n",
    "t_span = (0, 20)\n",
    "t_eval = np.linspace(t_span[0], t_span[1], 1000)  \n",
    "\n",
    "sol_ode45 = solve_ivp(VanDerPol, t_span, x0, args=(mu,), t_eval=t_eval, method='RK45')\n",
    "\n",
    "sol_ode15s = solve_ivp(VanDerPol, t_span, x0, args=(mu,), t_eval=t_eval, method='BDF',jac = VanDerPol_jac)\n",
    "\n",
    "\n",
    "\n",
    "plt.plot(solution.t, solution.y[0], label='x1 (Position)')\n",
    "plt.plot(solution.t, solution.y[1], label='x2 (Velocity)')\n",
    "plt.xlabel('Time')\n",
    "plt.ylabel('Values')\n",
    "plt.legend()\n",
    "plt.title('Van der Pol Oscillator')\n",
    "plt.grid()\n",
    "plt.show()\n",
    "\n",
    "plt.figure()\n",
    "plt.plot(solution.y[0], solution.y[1], label='Ode45')\n",
    "plt.xlabel('x1')\n",
    "plt.ylabel('x2')\n",
    "plt.legend()\n",
    "plt.title('Van der Pol Oscillator - Time Evolution')\n",
    "plt.grid()\n",
    "plt.show()\n",
    "\n",
    "fig, axs = plt.subplots(1, 2, figsize=(12, 5))\n",
    "\n",
    "\n",
    "# Plot RK45 (ode45)\n",
    "axs[0].plot(sol_ode45.y[0], sol_ode45.y[1], label='ode45')\n",
    "axs[0].set_xlabel('x1')\n",
    "axs[0].set_ylabel('x2')\n",
    "axs[0].set_title('Van der Pol - ode45')\n",
    "axs[0].legend()\n",
    "axs[0].grid()\n",
    "\n",
    "# Plot BDF (ode15s)\n",
    "axs[1].plot(sol_ode15s.y[0], sol_ode15s.y[1], label='ode15s', color='orange')\n",
    "axs[1].set_xlabel('x1')\n",
    "axs[1].set_ylabel('x2')\n",
    "axs[1].set_title('Van der Pol - ode15s')\n",
    "axs[1].legend()\n",
    "axs[1].grid()\n",
    "\n",
    "plt.tight_layout()\n",
    "plt.show()\n"
   ]
  }
 ],
 "metadata": {
  "kernelspec": {
   "display_name": ".venv",
   "language": "python",
   "name": "python3"
  },
  "language_info": {
   "codemirror_mode": {
    "name": "ipython",
    "version": 3
   },
   "file_extension": ".py",
   "mimetype": "text/x-python",
   "name": "python",
   "nbconvert_exporter": "python",
   "pygments_lexer": "ipython3",
   "version": "3.13.2"
  }
 },
 "nbformat": 4,
 "nbformat_minor": 2
}
