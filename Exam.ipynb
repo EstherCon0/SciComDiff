{
 "cells": [
  {
   "cell_type": "markdown",
   "metadata": {},
   "source": [
    "## 02686 Exam Report"
   ]
  },
  {
   "cell_type": "markdown",
   "metadata": {},
   "source": [
    "## 1.1 Prey predator"
   ]
  },
  {
   "cell_type": "code",
   "execution_count": null,
   "metadata": {},
   "outputs": [
    {
     "name": "stdout",
     "output_type": "stream",
     "text": [
      "[[0, -1], [1, 0]]\n"
     ]
    }
   ],
   "source": [
    "# Prey predator function valuation\n",
    "def Prey_pred(t, x, a, b):\n",
    "    x1, x2 = x\n",
    "    dx1= a * (1 - x2) * x1\n",
    "    dx2 = -b * (1 - x1) * x2\n",
    "    return [dx1,dx2]\n",
    "\n",
    "# Jacobian of prey predator valuation\n",
    "def Prey_pred_jac(t, x, a, b):\n",
    "    x1, x2 = x\n",
    "    dx1x1 = a * (1 - x2) \n",
    "    dx1x2 = -a * x1\n",
    "    dx2x1 = b * x2\n",
    "    dx2x2 = -b * (1 - x1)\n",
    "    x2_ = -b * (1 - x[0]) * x[1]\n",
    "    return [[dx1x1, dx1x2], [dx2x1, dx2x2]]\n",
    "\n",
    "# Prey predator function and jacobian\n",
    "def PreyPredatorFunJac(t, x, a, b):\n",
    "    x1, x2 = x\n",
    "\n",
    "    dx1= a * (1 - x2) * x1\n",
    "    dx2 = -b * (1 - x1) * x2\n",
    "\n",
    "    dx1x1 = a * (1 - x2) \n",
    "    dx1x2 = -a * x1\n",
    "    dx2x1 = b * x2\n",
    "    dx2x2 = -b * (1 - x1)\n",
    "    return [dx1,dx2], [[dx1x1, dx1x2], [dx2x1, dx2x2]]"
   ]
  },
  {
   "cell_type": "markdown",
   "metadata": {},
   "source": [
    "## 1.2 Van der Pol"
   ]
  },
  {
   "cell_type": "code",
   "execution_count": 1,
   "metadata": {},
   "outputs": [
    {
     "ename": "NameError",
     "evalue": "name 'solution' is not defined",
     "output_type": "error",
     "traceback": [
      "\u001b[1;31m---------------------------------------------------------------------------\u001b[0m",
      "\u001b[1;31mNameError\u001b[0m                                 Traceback (most recent call last)",
      "Cell \u001b[1;32mIn[1], line 32\u001b[0m\n\u001b[0;32m     26\u001b[0m sol_ode45 \u001b[38;5;241m=\u001b[39m solve_ivp(VanDerPol, t_span, x0, args\u001b[38;5;241m=\u001b[39m(mu,), t_eval\u001b[38;5;241m=\u001b[39mt_eval, method\u001b[38;5;241m=\u001b[39m\u001b[38;5;124m'\u001b[39m\u001b[38;5;124mRK45\u001b[39m\u001b[38;5;124m'\u001b[39m)\n\u001b[0;32m     28\u001b[0m sol_ode15s \u001b[38;5;241m=\u001b[39m solve_ivp(VanDerPol, t_span, x0, args\u001b[38;5;241m=\u001b[39m(mu,), t_eval\u001b[38;5;241m=\u001b[39mt_eval, method\u001b[38;5;241m=\u001b[39m\u001b[38;5;124m'\u001b[39m\u001b[38;5;124mBDF\u001b[39m\u001b[38;5;124m'\u001b[39m,jac \u001b[38;5;241m=\u001b[39m VanDerPol_jac)\n\u001b[1;32m---> 32\u001b[0m plt\u001b[38;5;241m.\u001b[39mplot(\u001b[43msolution\u001b[49m\u001b[38;5;241m.\u001b[39mt, solution\u001b[38;5;241m.\u001b[39my[\u001b[38;5;241m0\u001b[39m], label\u001b[38;5;241m=\u001b[39m\u001b[38;5;124m'\u001b[39m\u001b[38;5;124mx1 (Position)\u001b[39m\u001b[38;5;124m'\u001b[39m)\n\u001b[0;32m     33\u001b[0m plt\u001b[38;5;241m.\u001b[39mplot(solution\u001b[38;5;241m.\u001b[39mt, solution\u001b[38;5;241m.\u001b[39my[\u001b[38;5;241m1\u001b[39m], label\u001b[38;5;241m=\u001b[39m\u001b[38;5;124m'\u001b[39m\u001b[38;5;124mx2 (Velocity)\u001b[39m\u001b[38;5;124m'\u001b[39m)\n\u001b[0;32m     34\u001b[0m plt\u001b[38;5;241m.\u001b[39mxlabel(\u001b[38;5;124m'\u001b[39m\u001b[38;5;124mTime\u001b[39m\u001b[38;5;124m'\u001b[39m)\n",
      "\u001b[1;31mNameError\u001b[0m: name 'solution' is not defined"
     ]
    }
   ],
   "source": [
    "import numpy as np\n",
    "import matplotlib.pyplot as plt\n",
    "from scipy.integrate import solve_ivp\n",
    "\n",
    "\n",
    "def VanDerPol(t,x,mu):\n",
    "\n",
    "    x1_ = x[1]\n",
    "\n",
    "    x2_ = mu*(1-x[0]**2)*x[1]-x[0]\n",
    "\n",
    "    return [x1_,x2_]\n",
    "\n",
    "def VanDerPol_jac(t, x, mu):\n",
    "    x1, x2 = x\n",
    "    return [\n",
    "        [0, 1],\n",
    "        [-2 * mu * x1 * x2 - 1, mu * (1 - x1**2)]\n",
    "    ]\n",
    "\n",
    "mu = 10\n",
    "x0 = [2.0, 0.0]\n",
    "t_span = (0, 20)\n",
    "t_eval = np.linspace(t_span[0], t_span[1], 1000)  \n",
    "\n",
    "sol_ode45 = solve_ivp(VanDerPol, t_span, x0, args=(mu,), t_eval=t_eval, method='RK45')\n",
    "\n",
    "sol_ode15s = solve_ivp(VanDerPol, t_span, x0, args=(mu,), t_eval=t_eval, method='BDF',jac = VanDerPol_jac)\n",
    "\n",
    "\n",
    "\n",
    "plt.plot(solution.t, solution.y[0], label='x1 (Position)')\n",
    "plt.plot(solution.t, solution.y[1], label='x2 (Velocity)')\n",
    "plt.xlabel('Time')\n",
    "plt.ylabel('Values')\n",
    "plt.legend()\n",
    "plt.title('Van der Pol Oscillator')\n",
    "plt.grid()\n",
    "plt.show()\n",
    "\n",
    "plt.figure()\n",
    "plt.plot(solution.y[0], solution.y[1], label='Ode45')\n",
    "plt.xlabel('x1')\n",
    "plt.ylabel('x2')\n",
    "plt.legend()\n",
    "plt.title('Van der Pol Oscillator - Time Evolution')\n",
    "plt.grid()\n",
    "plt.show()\n",
    "\n",
    "fig, axs = plt.subplots(1, 2, figsize=(12, 5))\n",
    "\n",
    "\n",
    "# Plot RK45 (ode45)\n",
    "axs[0].plot(sol_ode45.y[0], sol_ode45.y[1], label='ode45')\n",
    "axs[0].set_xlabel('x1')\n",
    "axs[0].set_ylabel('x2')\n",
    "axs[0].set_title('Van der Pol - ode45')\n",
    "axs[0].legend()\n",
    "axs[0].grid()\n",
    "\n",
    "# Plot BDF (ode15s)\n",
    "axs[1].plot(sol_ode15s.y[0], sol_ode15s.y[1], label='ode15s', color='orange')\n",
    "axs[1].set_xlabel('x1')\n",
    "axs[1].set_ylabel('x2')\n",
    "axs[1].set_title('Van der Pol - ode15s')\n",
    "axs[1].legend()\n",
    "axs[1].grid()\n",
    "\n",
    "plt.tight_layout()\n",
    "plt.show()\n"
   ]
  },
  {
   "cell_type": "markdown",
   "metadata": {},
   "source": [
    "## 1.3 Chemical Reaction in a Continuous Stirred Tank Reactor (CSTR)"
   ]
  },
  {
   "cell_type": "code",
   "execution_count": null,
   "metadata": {},
   "outputs": [],
   "source": [
    "import numpy as np"
   ]
  },
  {
   "cell_type": "code",
   "execution_count": 18,
   "metadata": {},
   "outputs": [
    {
     "name": "stdout",
     "output_type": "stream",
     "text": [
      "0.0\n",
      "[ -1.          -2.         133.77926421]\n",
      "0.0\n",
      "0.0\n",
      "[-0. -0.  0.]\n",
      "[np.float64(0.9523809523809524), np.float64(-1.9047619047619049), np.float64(-127.408823060997)]\n"
     ]
    }
   ],
   "source": [
    "def CSTR(t, C, C0):\n",
    "    # Given constants \n",
    "    deltaHr = -560              # kJ/mol\n",
    "    rho = 1.0                   # kg/L\n",
    "    cp = 4.186                  # kJ/(kg*K)\n",
    "    E_adv_R = 8500              #E_a div med E\n",
    "    k0 = np.exp(24.6)           # L/(mol*s)\n",
    "    A = 0.1 \n",
    "    V = 0.105                   # according to a Wahlgreen (2020) in L\n",
    "    \n",
    "\n",
    "    CA, CB, CT = C\n",
    "    # Calculating constants\n",
    "    k = k0* np.exp(-E_adv_R/CT)\n",
    "    print(\"k0\",k0)\n",
    "    beta = - deltaHr/(rho*cp)\n",
    "    v = np.array([-1, -2, beta])\n",
    "    F = v * A\n",
    "    r=k*CA*CB\n",
    "    print(np.exp(-E_adv_R/CT))\n",
    "    print(v)\n",
    "    print(r)\n",
    "    print(k)\n",
    "    R = v.T*r #v transposed\n",
    "    print(R)\n",
    "\n",
    "    sol = (C0-C) * F/V + R\n",
    "\n",
    "    dCA, dCB, dCT = sol\n",
    "\n",
    "    return [dCA, dCB, dCT]\n",
    "\n",
    "#def lille_r(C):  \n",
    "\n",
    " #   C_a,C_b, T = C\n",
    " #   E_adv_R = 8500              #E_a div med E\n",
    " #   k0 = np.exp(24.6)           # L/(mol*s)  \n",
    " #   k = k0* np.exp(-E_adv_R/T)\n",
    "\n",
    " #   return k*C_a*C_b\n",
    "\n",
    "    \n",
    "\n",
    "    \n",
    "print(CSTR(1,np.array([1,1,1]),np.array([0,2,0])))\n",
    "\n",
    "\n",
    "\n"
   ]
  },
  {
   "cell_type": "code",
   "execution_count": null,
   "metadata": {},
   "outputs": [],
   "source": [
    "#jacobien of the problem\n",
    "\n"
   ]
  }
 ],
 "metadata": {
  "kernelspec": {
   "display_name": ".venv",
   "language": "python",
   "name": "python3"
  },
  "language_info": {
   "codemirror_mode": {
    "name": "ipython",
    "version": 3
   },
   "file_extension": ".py",
   "mimetype": "text/x-python",
   "name": "python",
   "nbconvert_exporter": "python",
   "pygments_lexer": "ipython3",
   "version": "3.13.3"
  }
 },
 "nbformat": 4,
 "nbformat_minor": 2
}
