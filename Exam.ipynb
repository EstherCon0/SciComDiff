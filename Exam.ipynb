{
 "cells": [
  {
   "cell_type": "markdown",
   "metadata": {},
   "source": [
    "## 02686 Exam Report"
   ]
  },
  {
   "cell_type": "code",
   "execution_count": null,
   "metadata": {},
   "outputs": [
    {
     "name": "stdout",
     "output_type": "stream",
     "text": [
      "[[0, -1], [1, 0]]\n"
     ]
    }
   ],
   "source": [
    "# Prey predator function valuation\n",
    "def Prey_pred(t, x, a, b):\n",
    "    x1, x2 = x\n",
    "    dx1= a * (1 - x2) * x1\n",
    "    dx2 = -b * (1 - x1) * x2\n",
    "    return [dx1,dx2]\n",
    "\n",
    "# Jacobian of prey predator valuation\n",
    "def Prey_pred_jac(t, x, a, b):\n",
    "    x1, x2 = x\n",
    "    dx1x1 = a * (1 - x2) \n",
    "    dx1x2 = -a * x1\n",
    "    dx2x1 = b * x2\n",
    "    dx2x2 = -b * (1 - x1)\n",
    "    x2_ = -b * (1 - x[0]) * x[1]\n",
    "    return [[dx1x1, dx1x2], [dx2x1, dx2x2]]\n",
    "\n",
    "# Prey predator function and jacobian\n",
    "def PreyPredatorFunJac(t, x, a, b):\n",
    "    x1, x2 = x\n",
    "\n",
    "    dx1= a * (1 - x2) * x1\n",
    "    dx2 = -b * (1 - x1) * x2\n",
    "\n",
    "    dx1x1 = a * (1 - x2) \n",
    "    dx1x2 = -a * x1\n",
    "    dx2x1 = b * x2\n",
    "    dx2x2 = -b * (1 - x1)\n",
    "    return [dx1,dx2], [[dx1x1, dx1x2], [dx2x1, dx2x2]]\n",
    "\n"
   ]
  }
 ],
 "metadata": {
  "kernelspec": {
   "display_name": ".venv",
   "language": "python",
   "name": "python3"
  },
  "language_info": {
   "codemirror_mode": {
    "name": "ipython",
    "version": 3
   },
   "file_extension": ".py",
   "mimetype": "text/x-python",
   "name": "python",
   "nbconvert_exporter": "python",
   "pygments_lexer": "ipython3",
   "version": "3.13.2"
  }
 },
 "nbformat": 4,
 "nbformat_minor": 2
}
