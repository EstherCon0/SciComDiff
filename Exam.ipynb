{
 "cells": [
  {
   "cell_type": "markdown",
   "metadata": {},
   "source": [
    "## 02686 Exam Report"
   ]
  },
  {
   "cell_type": "markdown",
   "metadata": {},
   "source": [
    "## 1.1 Prey predator"
   ]
  },
  {
   "cell_type": "code",
   "execution_count": null,
   "metadata": {},
   "outputs": [],
   "source": [
    "# Prey predator function valuation\n",
    "def PreyPredator(t, x, a, b):\n",
    "    x1, x2 = x\n",
    "    dx1= a * (1 - x2) * x1\n",
    "    dx2 = -b * (1 - x1) * x2\n",
    "    return [dx1,dx2]\n",
    "\n",
    "# Jacobian of prey predator valuation\n",
    "def PreyPredator_Jac(t, x, a, b):\n",
    "    x1, x2 = x\n",
    "    dx1x1 = a * (1 - x2) \n",
    "    dx1x2 = -a * x1\n",
    "    dx2x1 = b * x2\n",
    "    dx2x2 = -b * (1 - x1)\n",
    "    x2_ = -b * (1 - x[0]) * x[1]\n",
    "    return [[dx1x1, dx1x2], [dx2x1, dx2x2]]\n",
    "\n",
    "# Prey predator function and jacobian\n",
    "def PreyPredator_Fun_Jac(t, x, a, b):\n",
    "    x1, x2 = x\n",
    "\n",
    "    dx1= a * (1 - x2) * x1\n",
    "    dx2 = -b * (1 - x1) * x2\n",
    "\n",
    "    dx1x1 = a * (1 - x2) \n",
    "    dx1x2 = -a * x1\n",
    "    dx2x1 = b * x2\n",
    "    dx2x2 = -b * (1 - x1)\n",
    "    return [dx1,dx2], [[dx1x1, dx1x2], [dx2x1, dx2x2]]"
   ]
  },
  {
   "cell_type": "markdown",
   "metadata": {},
   "source": [
    "## 1.2 Van der Pol"
   ]
  },
  {
   "cell_type": "code",
   "execution_count": null,
   "metadata": {},
   "outputs": [
    {
     "ename": "NameError",
     "evalue": "name 'solution' is not defined",
     "output_type": "error",
     "traceback": [
      "\u001b[1;31m---------------------------------------------------------------------------\u001b[0m",
      "\u001b[1;31mNameError\u001b[0m                                 Traceback (most recent call last)",
      "Cell \u001b[1;32mIn[3], line 32\u001b[0m\n\u001b[0;32m     26\u001b[0m sol_ode45 \u001b[38;5;241m=\u001b[39m solve_ivp(VanDerPol, t_span, x0, args\u001b[38;5;241m=\u001b[39m(mu,), t_eval\u001b[38;5;241m=\u001b[39mt_eval, method\u001b[38;5;241m=\u001b[39m\u001b[38;5;124m'\u001b[39m\u001b[38;5;124mRK45\u001b[39m\u001b[38;5;124m'\u001b[39m)\n\u001b[0;32m     28\u001b[0m sol_ode15s \u001b[38;5;241m=\u001b[39m solve_ivp(VanDerPol, t_span, x0, args\u001b[38;5;241m=\u001b[39m(mu,), t_eval\u001b[38;5;241m=\u001b[39mt_eval, method\u001b[38;5;241m=\u001b[39m\u001b[38;5;124m'\u001b[39m\u001b[38;5;124mBDF\u001b[39m\u001b[38;5;124m'\u001b[39m,jac \u001b[38;5;241m=\u001b[39m VanDerPol_jac)\n\u001b[1;32m---> 32\u001b[0m plt\u001b[38;5;241m.\u001b[39mplot(\u001b[43msolution\u001b[49m\u001b[38;5;241m.\u001b[39mt, solution\u001b[38;5;241m.\u001b[39my[\u001b[38;5;241m0\u001b[39m], label\u001b[38;5;241m=\u001b[39m\u001b[38;5;124m'\u001b[39m\u001b[38;5;124mx1 (Position)\u001b[39m\u001b[38;5;124m'\u001b[39m)\n\u001b[0;32m     33\u001b[0m plt\u001b[38;5;241m.\u001b[39mplot(solution\u001b[38;5;241m.\u001b[39mt, solution\u001b[38;5;241m.\u001b[39my[\u001b[38;5;241m1\u001b[39m], label\u001b[38;5;241m=\u001b[39m\u001b[38;5;124m'\u001b[39m\u001b[38;5;124mx2 (Velocity)\u001b[39m\u001b[38;5;124m'\u001b[39m)\n\u001b[0;32m     34\u001b[0m plt\u001b[38;5;241m.\u001b[39mxlabel(\u001b[38;5;124m'\u001b[39m\u001b[38;5;124mTime\u001b[39m\u001b[38;5;124m'\u001b[39m)\n",
      "\u001b[1;31mNameError\u001b[0m: name 'solution' is not defined"
     ]
    }
   ],
   "source": [
    "import numpy as np\n",
    "import matplotlib.pyplot as plt\n",
    "from scipy.integrate import solve_ivp\n",
    "\n",
    "\n",
    "def VanDerPol(t,x,mu):\n",
    "\n",
    "    x1_ = x[1]\n",
    "\n",
    "    x2_ = mu*(1-x[0]**2)*x[1]-x[0]\n",
    "\n",
    "    return [x1_,x2_]\n",
    "\n",
    "def VanDerPol_Jac(t, x, mu):\n",
    "    x1, x2 = x\n",
    "    return [\n",
    "        [0, 1],\n",
    "        [-2 * mu * x1 * x2 - 1, mu * (1 - x1**2)]\n",
    "    ]\n",
    "\n",
    "mu = 10\n",
    "x0 = [2.0, 0.0]\n",
    "t_span = (0, 20)\n",
    "t_eval = np.linspace(t_span[0], t_span[1], 1000)  \n",
    "\n",
    "sol_ode45 = solve_ivp(VanDerPol, t_span, x0, args=(mu,), t_eval=t_eval, method='RK45')\n",
    "\n",
    "sol_ode15s = solve_ivp(VanDerPol, t_span, x0, args=(mu,), t_eval=t_eval, method='BDF',jac = VanDerPol_jac)\n",
    "\n",
    "\n",
    "\n",
    "plt.plot(solution.t, solution.y[0], label='x1 (Position)')\n",
    "plt.plot(solution.t, solution.y[1], label='x2 (Velocity)')\n",
    "plt.xlabel('Time')\n",
    "plt.ylabel('Values')\n",
    "plt.legend()\n",
    "plt.title('Van der Pol Oscillator')\n",
    "plt.grid()\n",
    "plt.show()\n",
    "\n",
    "plt.figure()\n",
    "plt.plot(solution.y[0], solution.y[1], label='Ode45')\n",
    "plt.xlabel('x1')\n",
    "plt.ylabel('x2')\n",
    "plt.legend()\n",
    "plt.title('Van der Pol Oscillator - Time Evolution')\n",
    "plt.grid()\n",
    "plt.show()\n",
    "\n",
    "fig, axs = plt.subplots(1, 2, figsize=(12, 5))\n",
    "\n",
    "\n",
    "# Plot RK45 (ode45)\n",
    "axs[0].plot(sol_ode45.y[0], sol_ode45.y[1], label='ode45')\n",
    "axs[0].set_xlabel('x1')\n",
    "axs[0].set_ylabel('x2')\n",
    "axs[0].set_title('Van der Pol - ode45')\n",
    "axs[0].legend()\n",
    "axs[0].grid()\n",
    "\n",
    "# Plot BDF (ode15s)\n",
    "axs[1].plot(sol_ode15s.y[0], sol_ode15s.y[1], label='ode15s', color='orange')\n",
    "axs[1].set_xlabel('x1')\n",
    "axs[1].set_ylabel('x2')\n",
    "axs[1].set_title('Van der Pol - ode15s')\n",
    "axs[1].legend()\n",
    "axs[1].grid()\n",
    "\n",
    "plt.tight_layout()\n",
    "plt.show()\n"
   ]
  },
  {
   "cell_type": "markdown",
   "metadata": {},
   "source": [
    "## 1.3 Chemical Reaction in a Continuous Stirred Tank Reactor (CSTR)"
   ]
  },
  {
   "cell_type": "code",
   "execution_count": null,
   "metadata": {},
   "outputs": [],
   "source": [
    "import numpy as np"
   ]
  },
  {
   "cell_type": "markdown",
   "metadata": {},
   "source": [
    "CSTR 3 state"
   ]
  },
  {
   "cell_type": "code",
   "execution_count": 16,
   "metadata": {},
   "outputs": [
    {
     "name": "stdout",
     "output_type": "stream",
     "text": [
      "(array([ -0.95238095,  -1.9047619 , 127.40882306]), [[array([   0.95238095,    1.9047619 , -127.40882306]), np.float64(-0.0), np.float64(-0.0)], [np.float64(-0.0), array([   0.95238095,    1.9047619 , -127.40882306]), np.float64(-0.0)], [np.float64(0.0), np.float64(0.0), array([   0.95238095,    1.9047619 , -127.40882306])]])\n"
     ]
    },
    {
     "name": "stderr",
     "output_type": "stream",
     "text": [
      "C:\\Users\\Bruger\\AppData\\Local\\Temp\\ipykernel_1752\\774658392.py:75: RuntimeWarning: overflow encountered in exp\n",
      "  [-F/V-k*CB, -k*CA, -CA*CB*k0*E_adv_R/(np.exp(E_adv_R/CT)*CT**2)],\n",
      "C:\\Users\\Bruger\\AppData\\Local\\Temp\\ipykernel_1752\\774658392.py:76: RuntimeWarning: overflow encountered in exp\n",
      "  [-2*k*CB, -F/V-2*k*CA, -2*CA*CB*k0*E_adv_R/(np.exp(E_adv_R/CT)*CT**2)],\n",
      "C:\\Users\\Bruger\\AppData\\Local\\Temp\\ipykernel_1752\\774658392.py:77: RuntimeWarning: overflow encountered in exp\n",
      "  [beta*k*CB, beta*k*CA, -F/V+beta*CA*CB*k0*E_adv_R/(np.exp(E_adv_R/CT)*CT**2)],\n"
     ]
    }
   ],
   "source": [
    "def CSTR(t, C, C0):\n",
    "    # Given constants \n",
    "    deltaHr = -560              # kJ/mol\n",
    "    rho = 1.0                   # kg/L\n",
    "    cp = 4.186                  # kJ/(kg*K)\n",
    "    E_adv_R = 8500              # E_a div med E\n",
    "    k0 = np.exp(24.6)           # L/(mol*s)\n",
    "    A = 0.1                     # m^2\n",
    "    V = 0.105                   # L (according to a Wahlgreen (2020))\n",
    "    \n",
    "    CA, CB, CT = C\n",
    "    # Calculating constants\n",
    "    k = k0 * np.exp(-E_adv_R/CT)\n",
    "    beta = - deltaHr/(rho*cp)\n",
    "    v = np.array([-1, -2, beta])\n",
    "    F = v * A\n",
    "    r=k*CA*CB\n",
    "    \n",
    "    # Reaction rate\n",
    "    R = v.T*r #v transposed\n",
    "    \n",
    "    # Calculating the change in concentration\n",
    "    system = (C0-C) * F/V + R\n",
    "    dCA, dCB, dCT = system\n",
    "\n",
    "    return [dCA, dCB, dCT]\n",
    "\n",
    "def CSTR_Jac(t, C, C0):\n",
    "    # Given constants \n",
    "    deltaHr = -560              # kJ/mol\n",
    "    rho = 1.0                   # kg/L\n",
    "    cp = 4.186                  # kJ/(kg*K)\n",
    "    E_adv_R = 8500              # E_a div med E\n",
    "    k0 = np.exp(24.6)           # L/(mol*s)\n",
    "    A = 0.1                     # m^2\n",
    "    V = 0.105                   # L (according to a Wahlgreen (2020))\n",
    "    \n",
    "    CA, CB, CT = C\n",
    "    # Calculating constants\n",
    "    k = k0 * np.exp(-E_adv_R/CT)\n",
    "    beta = - deltaHr/(rho*cp)\n",
    "    v = np.array([-1, -2, beta])\n",
    "    F = v * A\n",
    "    r=k*CA*CB\n",
    "    \n",
    "    return [\n",
    "        [-F/V-k*CB, -k*CA, -CA*CB*k0*E_adv_R/(np.exp(E_adv_R/CT)*CT**2)],\n",
    "        [-2*k*CB, -F/V-2*k*CA, -2*CA*CB*k0*E_adv_R/(np.exp(E_adv_R/CT)*CT**2)],\n",
    "        [beta*k*CB, beta*k*CA, -F/V+beta*CA*CB*k0*E_adv_R/(np.exp(E_adv_R/CT)*CT**2)],\n",
    "    ]\n",
    "\n",
    "def CSTR_Fun_Jac(t, C, C0):\n",
    "    # Given constants \n",
    "    deltaHr = -560              # kJ/mol\n",
    "    rho = 1.0                   # kg/L\n",
    "    cp = 4.186                  # kJ/(kg*K)\n",
    "    E_adv_R = 8500              # E_a div med E\n",
    "    k0 = np.exp(24.6)           # L/(mol*s)\n",
    "    A = 0.1                     # m^2\n",
    "    V = 0.105                   # L (according to a Wahlgreen (2020))\n",
    "    \n",
    "    CA, CB, CT = C\n",
    "    # Calculating constants\n",
    "    k = k0 * np.exp(-E_adv_R/CT)\n",
    "    beta = - deltaHr/(rho*cp)\n",
    "    v = np.array([-1, -2, beta])\n",
    "    F = v * A\n",
    "    r=k*CA*CB\n",
    "    R = v.T*r #v transposed\n",
    "    \n",
    "    system = (C0-C) * F/V + R\n",
    "    #dCA, dCB, dCT = system\n",
    "\n",
    "    Jac= [\n",
    "        [-F/V-k*CB, -k*CA, -CA*CB*k0*E_adv_R/(np.exp(E_adv_R/CT)*CT**2)],\n",
    "        [-2*k*CB, -F/V-2*k*CA, -2*CA*CB*k0*E_adv_R/(np.exp(E_adv_R/CT)*CT**2)],\n",
    "        [beta*k*CB, beta*k*CA, -F/V+beta*CA*CB*k0*E_adv_R/(np.exp(E_adv_R/CT)*CT**2)],\n",
    "    ]\n",
    "    return system, Jac\n",
    "\n",
    "    \n",
    "#print(CSTR(1,np.array([1,1,1]),np.array([2,2,2])))\n",
    "\n",
    "#print(CSTR_Jac(1,np.array([1,1,1]),np.array([2,2,2])))\n",
    "\n",
    "print(CSTR_Fun_Jac(1,np.array([1,1,1]),np.array([2,2,2])))\n",
    "\n",
    "\n",
    "# runtime warning for np.exp, consider how to fix\n"
   ]
  },
  {
   "cell_type": "markdown",
   "metadata": {},
   "source": [
    "CSTR 1-state"
   ]
  }
 ],
 "metadata": {
  "kernelspec": {
   "display_name": ".venv",
   "language": "python",
   "name": "python3"
  },
  "language_info": {
   "codemirror_mode": {
    "name": "ipython",
    "version": 3
   },
   "file_extension": ".py",
   "mimetype": "text/x-python",
   "name": "python",
   "nbconvert_exporter": "python",
   "pygments_lexer": "ipython3",
   "version": "3.13.3"
  }
 },
 "nbformat": 4,
 "nbformat_minor": 2
}
